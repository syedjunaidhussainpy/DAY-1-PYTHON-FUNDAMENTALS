{
 "cells": [
  {
   "cell_type": "code",
   "execution_count": 1,
   "id": "fbc588bf-6003-4772-b864-aa192fde4932",
   "metadata": {},
   "outputs": [
    {
     "name": "stdout",
     "output_type": "stream",
     "text": [
      "Hello World My Name Is Syed Junaid Hussain\n"
     ]
    }
   ],
   "source": [
    " print( 'Hello World My Name Is Syed Junaid Hussain')"
   ]
  },
  {
   "cell_type": "code",
   "execution_count": 2,
   "id": "d878c8e3-6411-4545-b323-27d42da8f83b",
   "metadata": {},
   "outputs": [
    {
     "ename": "SyntaxError",
     "evalue": "Missing parentheses in call to 'print'. Did you mean print(...)? (1015311077.py, line 1)",
     "output_type": "error",
     "traceback": [
      "\u001b[1;36m  Cell \u001b[1;32mIn[2], line 1\u001b[1;36m\u001b[0m\n\u001b[1;33m    print 1+1\u001b[0m\n\u001b[1;37m    ^\u001b[0m\n\u001b[1;31mSyntaxError\u001b[0m\u001b[1;31m:\u001b[0m Missing parentheses in call to 'print'. Did you mean print(...)?\n"
     ]
    }
   ],
   "source": [
    "print 1+1"
   ]
  },
  {
   "cell_type": "code",
   "execution_count": null,
   "id": "be652140-a9ac-4cf5-a9b2-b4ee8b8c5415",
   "metadata": {},
   "outputs": [],
   "source": []
  }
 ],
 "metadata": {
  "kernelspec": {
   "display_name": "Python 3 (ipykernel)",
   "language": "python",
   "name": "python3"
  },
  "language_info": {
   "codemirror_mode": {
    "name": "ipython",
    "version": 3
   },
   "file_extension": ".py",
   "mimetype": "text/x-python",
   "name": "python",
   "nbconvert_exporter": "python",
   "pygments_lexer": "ipython3",
   "version": "3.13.5"
  }
 },
 "nbformat": 4,
 "nbformat_minor": 5
}
